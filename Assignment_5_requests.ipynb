{
 "cells": [
  {
   "cell_type": "markdown",
   "metadata": {},
   "source": [
    "## Creating and polling a website\n",
    "\n",
    "This assignment trains you in \n",
    "1. installing and using a new Python framework\n",
    "2. running Python code from the terminal\n",
    "3. scrape web requests"
   ]
  },
  {
   "cell_type": "markdown",
   "metadata": {},
   "source": [
    "The code in this assignment is based on the [`requests`](http://docs.python-requests.org/en/master/) module and the [flask](https://anaconda.org/anaconda/flask) framework (see links). Don't forget to use Python 3 for the assignment. Scary things might happen if you don't"
   ]
  },
  {
   "cell_type": "markdown",
   "metadata": {},
   "source": [
    "## Part 1: Writing a server\n",
    "\n",
    "The first part of the assignment is to write a *very* simple server. \n",
    "It needs to do three things:\n",
    "\n",
    "1. Expose an HTTP POST method at `/`, that accepts and decodes a JSON data body. That is the only method you have to expose.\n",
    "2. Get the request JSON data (using `request.get_json()`) and assume it's a dictionary. Now extract the value inside the dictionary under the key `password`. We will call this password for `client_password`.\n",
    "3. Choose a two-letter password (in ASCII) that is fixed for the server. Just choose two random letters/numbers. We will call this password `SERVER_PASSWORD`. If the decoded value for the `password` field is the *same* as your chosen password (`client_password == SERVER_PASSWORD`), return an HTTP code `200 OK`. Otherwise return the HTTP code `403 Forbidden` status code. You don't have to return a body.\n",
    "\n",
    "Hand in:\n",
    "* The code for your server *copied into* a Jupyter Notebook\n",
    "  * This should not be much more than 20 lines of code"
   ]
  },
  {
   "cell_type": "code",
   "execution_count": 1,
   "metadata": {},
   "outputs": [],
   "source": [
    "from flask import Flask, request, Response\n",
    "app = Flask(__name__)\n",
    "\n",
    "SERVER_PASSWORD = 'rh'\n",
    "\n",
    "@app.route('/', methods=['POST'])\n",
    "def check_password():\n",
    "    client_password = request.get_json()['password']\n",
    "    \n",
    "    if client_password == SERVER_PASSWORD:\n",
    "        return Response(status=200)\n",
    "    else:\n",
    "        return Response(status=404)"
   ]
  },
  {
   "cell_type": "markdown",
   "metadata": {},
   "source": [
    "## Part 2: Hack the server!\n",
    "\n",
    "Now we want to hack the server. But not just hack it once. We want to *automate* hacking the server!\n",
    "Before you start on this part, make sure your server from part 1 is running.\n",
    "\n",
    "1. Find a list of all the possible ASCII characters in Python (hint: look in the `string` module)\n",
    "2. Generate *all possible combinations* of two ASCII characters and save them into the variable `\n",
    "  * This will be 52 * 52 = 2704 elements. If you're smart you can create this as a generator\n",
    "3. Write a method that takes a string `password` as its input, calls your server from part 1 (running on localhost), and *return* the status code of the request. Make sure that you:\n",
    "  * Call the website at the correct port and URL with the correct HTTP verb\n",
    "  * Inject data correctly. Remember that the body should be a `str` containing a JSON dictionary\n",
    "4. Use your list of combinations from step 2 to call the sever 2704 times and find out when the status code it 200. When that happened you cracked the code!\n",
    "\n",
    "Hand in:\n",
    "  * The code for your hack in your Jupyter Notebook\n",
    "  * The password you found"
   ]
  },
  {
   "cell_type": "code",
   "execution_count": 2,
   "metadata": {},
   "outputs": [],
   "source": [
    "import string\n",
    "\n",
    "def generate_password():\n",
    "    all_letters = string.ascii_letters\n",
    "    for a in all_letters:\n",
    "        for b in all_letters:\n",
    "            yield a + b"
   ]
  },
  {
   "cell_type": "code",
   "execution_count": 3,
   "metadata": {},
   "outputs": [],
   "source": [
    "import requests\n",
    "\n",
    "def check_password(password):\n",
    "    json = {\"password\":password}\n",
    "    return requests.post(\"http://localhost:5000\", json=json).status_code"
   ]
  },
  {
   "cell_type": "code",
   "execution_count": 4,
   "metadata": {},
   "outputs": [
    {
     "name": "stdout",
     "output_type": "stream",
     "text": [
      "The password is rh\n"
     ]
    }
   ],
   "source": [
    "for pw in generate_password():\n",
    "    if check_password(pw) == 200:\n",
    "        print(\"The password is {}\".format(pw))\n",
    "        break"
   ]
  },
  {
   "cell_type": "markdown",
   "metadata": {},
   "source": [
    "## Part 3 (optional): Make it go fast!\n",
    "\n",
    "This was probably pretty slow, because we made ~2704 sequential requests. Now implement this asynchronously by using\n",
    "a pool like this:\n",
    "```python\n",
    "from multiprocessing import Pool\n",
    "pool = Pool(processes=12)\n",
    "```\n",
    "\n",
    "Hand in:\n",
    "* The code for parallelising your server hacking\n",
    "* The runtimes of the sequential and parallel version using `%%timeit`\n",
    "* A line of code explaining what happened. Was it faster? If so, why? Was it slower or the same? If so, why?"
   ]
  },
  {
   "cell_type": "code",
   "execution_count": 5,
   "metadata": {},
   "outputs": [],
   "source": [
    "from multiprocessing import Pool, cpu_count"
   ]
  },
  {
   "cell_type": "code",
   "execution_count": 15,
   "metadata": {},
   "outputs": [
    {
     "name": "stdout",
     "output_type": "stream",
     "text": [
      "The password is rh\n",
      "The password is rh\n",
      "The password is rh\n",
      "The password is rh\n",
      "The password is rh\n",
      "The password is rh\n",
      "The password is rh\n",
      "The password is rh\n",
      "5.62 s ± 48.5 ms per loop (mean ± std. dev. of 7 runs, 1 loop each)\n"
     ]
    }
   ],
   "source": [
    "%%timeit\n",
    "with Pool(cpu_count()) as p:\n",
    "    for pw in generate_password():\n",
    "        res = p.apply_async(check_password, args=(pw, ))\n",
    "        if res.get() == 200:\n",
    "            print(\"The password is {}\".format(pw))\n",
    "            break"
   ]
  },
  {
   "cell_type": "code",
   "execution_count": 16,
   "metadata": {},
   "outputs": [
    {
     "name": "stdout",
     "output_type": "stream",
     "text": [
      "The password is rh\n",
      "The password is rh\n",
      "The password is rh\n",
      "The password is rh\n",
      "The password is rh\n",
      "The password is rh\n",
      "The password is rh\n",
      "The password is rh\n",
      "4.66 s ± 16.9 ms per loop (mean ± std. dev. of 7 runs, 1 loop each)\n"
     ]
    }
   ],
   "source": [
    "%%timeit\n",
    "for pw in generate_password():\n",
    "    if check_password(pw) == 200:\n",
    "        print(\"The password is {}\".format(pw))\n",
    "        break"
   ]
  }
 ],
 "metadata": {
  "kernelspec": {
   "display_name": "Python 3",
   "language": "python",
   "name": "python3"
  },
  "language_info": {
   "codemirror_mode": {
    "name": "ipython",
    "version": 3
   },
   "file_extension": ".py",
   "mimetype": "text/x-python",
   "name": "python",
   "nbconvert_exporter": "python",
   "pygments_lexer": "ipython3",
   "version": "3.7.1"
  }
 },
 "nbformat": 4,
 "nbformat_minor": 2
}
